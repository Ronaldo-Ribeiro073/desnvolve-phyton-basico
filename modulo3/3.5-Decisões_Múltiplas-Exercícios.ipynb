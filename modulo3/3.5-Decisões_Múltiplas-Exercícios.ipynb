{
 "cells": [
  {
   "cell_type": "markdown",
   "id": "559687a1",
   "metadata": {},
   "source": [
    "# Módulo 3 - Condicionais\n",
    "\n",
    "## 3.5 - Decisões Múltiplas"
   ]
  },
  {
   "cell_type": "markdown",
   "id": "42f823b3",
   "metadata": {},
   "source": [
    "### Q1.\n",
    "\n",
    "Vamos fazer uma calculadora! Escreva um programa que solicita 3 entradas: o primeiro operando (float), o operador (caracter) e o segundo operando (float). Seu programa deve imprimir o resultado da operação solicitada, entre soma (+), subtração (-), divisão (/), multiplicação (\\*) ou potência (\\*\\*). Seu programa também deve imprimir uma mensagem de erro se a operação solicitada não estiver dentre as opções disponíveis.\n",
    "\n",
    "Seguem alguns exemplos de interação com seu código no terminal. \n",
    "\n",
    "\n",
    "```\n",
    "Digite o primeiro operando: 5.2\n",
    "Digite o operador (+, -, /, *, **): *\n",
    "Digite o segundo operando` 3\n",
    "Resultado: 5.2 * 3.0 = 15.6\n",
    "```\n",
    "\n",
    "```\n",
    "Digite o primeiro operando: 8\n",
    "Digite o operador (+, -, /, *, **): **\n",
    "Digite o segundo operando: 2\n",
    "Resultado: 8.0 * 2.0 = 64.0\n",
    "```\n",
    "\n",
    "```\n",
    "Digite o primeiro operando: 7\n",
    "Digite o operador (+, -, /, *, **): %\n",
    "Digite o segundo operando: 3.4\n",
    "Erro! Operação inválida. \n",
    "```\n",
    "\n",
    "```\n",
    "Digite o primeiro operando: 10\n",
    "Digite o operador (+, -, /, *, **): /\n",
    "Digite o segundo operando: 2.5\n",
    "Resultado: 10.0 / 2.5 = 4.0\n",
    "```\n",
    "\n"
   ]
  },
  {
   "cell_type": "code",
   "execution_count": 2,
   "id": "c5b8cd4d",
   "metadata": {},
   "outputs": [
    {
     "name": "stdout",
     "output_type": "stream",
     "text": [
      "444.0555666.0 = 1.0\n"
     ]
    },
    {
     "name": "stdout",
     "output_type": "stream",
     "text": [
      "Insira o padrão de íris para autenticação.\n"
     ]
    },
    {
     "ename": "ValueError",
     "evalue": "could not convert string to float: ''",
     "output_type": "error",
     "traceback": [
      "\u001b[1;31m---------------------------------------------------------------------------\u001b[0m",
      "\u001b[1;31mValueError\u001b[0m                                Traceback (most recent call last)",
      "\u001b[1;32mc:\\Users\\Administrador\\Documents\\Python Scripts\\3.5-Decisões_Múltiplas-Exercícios.ipynb Cell 3\u001b[0m line \u001b[0;36m4\n\u001b[0;32m      <a href='vscode-notebook-cell:/c%3A/Users/Administrador/Documents/Python%20Scripts/3.5-Decis%C3%B5es_M%C3%BAltiplas-Exerc%C3%ADcios.ipynb#W2sZmlsZQ%3D%3D?line=1'>2</a>\u001b[0m n1 \u001b[39m=\u001b[39m \u001b[39mfloat\u001b[39m(\u001b[39minput\u001b[39m())\n\u001b[0;32m      <a href='vscode-notebook-cell:/c%3A/Users/Administrador/Documents/Python%20Scripts/3.5-Decis%C3%B5es_M%C3%BAltiplas-Exerc%C3%ADcios.ipynb#W2sZmlsZQ%3D%3D?line=2'>3</a>\u001b[0m operador \u001b[39m=\u001b[39m \u001b[39minput\u001b[39m()\n\u001b[1;32m----> <a href='vscode-notebook-cell:/c%3A/Users/Administrador/Documents/Python%20Scripts/3.5-Decis%C3%B5es_M%C3%BAltiplas-Exerc%C3%ADcios.ipynb#W2sZmlsZQ%3D%3D?line=3'>4</a>\u001b[0m n2 \u001b[39m=\u001b[39m \u001b[39mfloat\u001b[39m(\u001b[39minput\u001b[39m())\n\u001b[0;32m      <a href='vscode-notebook-cell:/c%3A/Users/Administrador/Documents/Python%20Scripts/3.5-Decis%C3%B5es_M%C3%BAltiplas-Exerc%C3%ADcios.ipynb#W2sZmlsZQ%3D%3D?line=5'>6</a>\u001b[0m \u001b[39mif\u001b[39;00m operador \u001b[39m==\u001b[39m \u001b[39m\"\u001b[39m\u001b[39m+\u001b[39m\u001b[39m\"\u001b[39m:\n\u001b[0;32m      <a href='vscode-notebook-cell:/c%3A/Users/Administrador/Documents/Python%20Scripts/3.5-Decis%C3%B5es_M%C3%BAltiplas-Exerc%C3%ADcios.ipynb#W2sZmlsZQ%3D%3D?line=6'>7</a>\u001b[0m  resultado \u001b[39m=\u001b[39m n1\u001b[39m+\u001b[39mn2\n",
      "\u001b[1;31mValueError\u001b[0m: could not convert string to float: ''"
     ]
    }
   ],
   "source": [
    "## Escreva e execute seu código aqui\n",
    "n1 = float(input())\n",
    "operador = input()\n",
    "n2 = float(input())\n",
    "\n",
    "if operador == \"+\":\n",
    " resultado = n1+n2\n",
    "\n",
    "elif operador == \"-\":\n",
    " resultado = n1 - n2\n",
    "\n",
    "elif operador == \"*\":\n",
    " resultado = n1 * n2\n",
    " \n",
    "elif operador == \"/\":\n",
    " resultado = n1 / n2\n",
    "\n",
    "print(f\"{n1}{operador}{n2} = {resultado}\")"
   ]
  },
  {
   "cell_type": "markdown",
   "id": "d135df39",
   "metadata": {},
   "source": [
    "### Q2.\n",
    "\n",
    "Escreva um programa que leia os comprimentos dos 3 lados de um triângulo e diga se o triângulo é equilátero, isóceles ou escaleno. Regras:\n",
    "- Isóceles: Quaisquer dois lados com o mesmo comprimento\n",
    "- Equilátero: Os três lados tem o mesmo comprimento\n",
    "- Escaleno: Três lados de comprimento diferente \n",
    "\n",
    "Note que a ordem das condições importa! Seguem alguns exemplos de interação com seu código no terminal. \n",
    "\n",
    "```\n",
    "Digite o comprimento do lado 1: 4\n",
    "Digite o comprimento do lado 2: 4\n",
    "Digite o comprimento do lado 3: 6\n",
    "Triângulo: Isóceles\n",
    "```\n",
    "\n",
    "```\n",
    "Digite o comprimento do lado 1: 5\n",
    "Digite o comprimento do lado 2: 5\n",
    "Digite o comprimento do lado 3: 5\n",
    "Triângulo: Equilátero\n",
    "```\n",
    "\n",
    "```\n",
    "Digite o comprimento do lado 1: 7\n",
    "Digite o comprimento do lado 2: 4\n",
    "Digite o comprimento do lado 3: 9\n",
    "Triângulo: Escaleno\n",
    "```\n",
    "\n"
   ]
  },
  {
   "cell_type": "code",
   "execution_count": null,
   "id": "cfcf9a80",
   "metadata": {},
   "outputs": [],
   "source": [
    "## Escreva e execute seu código aqui\n",
    "\n",
    "l1 = float(input())\n",
    "l2 = float(input())\n",
    "l3 = float(input())\n",
    "\n",
    "if l1 == l2 and l2 == l3:\n",
    "    print(\"Equilátero\")\n",
    "elif l1 != l2 and l2 != l3 and l3 != l1:\n",
    "    print(\"Escaleno\")\n",
    "else:\n",
    "    print(\"Isóceles\")"
   ]
  },
  {
   "cell_type": "markdown",
   "id": "ed3405fb",
   "metadata": {},
   "source": [
    "### Q3.\n",
    "\n",
    "Você está desenvolvendo um sistema de avaliação de desempenho para um jogo. Escreva um programa em Python que avalia a pontuação do jogador em uma missão e atribui uma classificação com base nas seguintes condições:\n",
    "\n",
    "- Se a pontuação for menor que 70, atribua a classificação \"Insatisfatório\".\n",
    "- Se a pontuação for maior ou igual a 70, atribua a classificação \"Regular\".\n",
    "- Se a pontuação for maior ou igual a 80, atribua a classificação \"Bom\".\n",
    "- Se a pontuação for maior ou igual a 90, atribua a classificação \"Excelente\".\n",
    "\n",
    "Escreva um programa que solicita ao usuário a pontuação e imprime a classificação correspondente."
   ]
  },
  {
   "cell_type": "code",
   "execution_count": null,
   "id": "a7a842ae",
   "metadata": {},
   "outputs": [],
   "source": [
    "## Escreva e execute seu código aqui\n",
    "\n",
    "# Solicita a pontuação do jogador\n",
    "pontuacao = float(input(\"Digite a pontuação do jogador: \"))\n",
    "\n",
    "# Avalia a pontuação e classifica conformemente\n",
    "if pontuacao >= 90:\n",
    "    classificacao = \"Excelente\"\n",
    "elif pontuacao >= 80:\n",
    "    classificacao = \"Bom\"\n",
    "elif pontuacao >= 70:\n",
    "    classificacao = \"Regular\"\n",
    "else:\n",
    "    classificacao = \"Insatisfatório\"\n",
    "\n",
    "print(\"A classificação do jogador é:\", classificacao)\n"
   ]
  },
  {
   "cell_type": "markdown",
   "id": "6cafaa50",
   "metadata": {},
   "source": [
    "### Q4.\n",
    "\n",
    "Você está implementando um sistema de desconto em uma loja online. Escreva um programa em Python que calcula o desconto com base no valor total da compra e atribui diferentes níveis de desconto de acordo com as seguintes condições:\n",
    "\n",
    "- Se o valor total da compra for menor que R\\$ 50, não há desconto.\n",
    "- Se o valor total da compra for maior ou igual a R\\$ 50, atribua um desconto de 10%.\n",
    "- Se o valor total da compra for maior ou igual a R\\$ 100, atribua um desconto de 20%.\n",
    "\n",
    "\n",
    "Seguem alguns exemplos de interação com seu código no terminal. Preste atenção na formatação esperada para as saídas.\n",
    "\n",
    "```\n",
    "Digite o valor total da compra: 120\n",
    "Desconto aplicado: 20.0%\n",
    "Valor final com desconto: R$96.00\n",
    "```\n",
    "\n",
    "```\n",
    "Digite o valor total da compra: 65\n",
    "Desconto aplicado: 10.0%\n",
    "Valor final com desconto: R$58.50\n",
    "```\n",
    "\n",
    "```\n",
    "Digite o valor total da compra: 40\n",
    "Desconto aplicado: 0.0%\n",
    "Valor final com desconto: R$40.00\n",
    "```\n",
    "\n",
    "\n"
   ]
  },
  {
   "cell_type": "code",
   "execution_count": null,
   "id": "3b1b1929",
   "metadata": {},
   "outputs": [
    {
     "name": "stdout",
     "output_type": "stream",
     "text": [
      "Desconto aplicado: 10%\n",
      "Valor final com desconto: R$45.00\n"
     ]
    }
   ],
   "source": [
    "## Escreva e execute seu código aqui\n",
    "\n",
    "# Solicita ao usuário o valor total da compra\n",
    "valor_compra = float(input(\"Digite o valor total da compra: \"))\n",
    "\n",
    "# Determina o percentual de desconto baseado no valor da compra\n",
    "if valor_compra < 50:\n",
    "    desconto_percentual = 0\n",
    "elif valor_compra >= 50 and valor_compra < 100:\n",
    "    desconto_percentual = 10\n",
    "else:\n",
    "    desconto_percentual = 20\n",
    "\n",
    "# Calculo do valor descontado e o valor final com desconto\n",
    "desconto = valor_compra * (desconto_percentual / 100)\n",
    "valor_final = valor_compra - desconto\n",
    "\n",
    "# Saída\n",
    "print(f\"Desconto aplicado: {desconto_percentual}%\")\n",
    "print(f\"Valor final com desconto: R${valor_final:.2f}\")\n"
   ]
  },
  {
   "cell_type": "markdown",
   "id": "dc5db6d7",
   "metadata": {},
   "source": [
    "### Q5.\n",
    "\n",
    "Você está projetando um sistema de autenticação baseado na análise da íris (parte colorida do olho). Ao acionado, o sistema coleta e retorna 3 valores inteiros referentes a atributos da íris visível. Mas o sistema não é perfeito, tendo uma margem de erro do sensor de +/- $5$. \n",
    "\n",
    "O código abaixo tem os atributos dos 4 usuários cadastrados no sistema. Você deve completar om código, pedindo ao usuário para inserir uma nova leitura de padrão de íris. O programa deve comparar o padrão inserido com os padrões cadastrados no banco de dados. Se o padrão estiver dentro da tolerância estabelecida, o usuário é autenticado com sucesso. Caso contrário, a autenticação falha.\n",
    "\n",
    "**Dica:** A função do python ```abs()``` retorna o valor absoluto de um elemento. Ex: \n",
    "```\n",
    ">>> print(abs(987-982))\n",
    "5\n",
    ">>> print(abs(987-992))\n",
    "5\n",
    "```\n",
    "\n",
    "Seguem alguns exemplos de interação com seu código no terminal.\n",
    "\n",
    "```\n",
    "Insira o padrão de íris para autenticação.\n",
    "Atributo 1: 111\n",
    "Atributo 2: 222\n",
    "Atributo 3: 333\n",
    "Autenticação bem-sucedida! \n",
    "Usuário: 3\n",
    "```\n",
    "\n",
    "```\n",
    "Insira o padrão de íris para autenticação.\n",
    "Atributo 1: 111\n",
    "Atributo 2: 200\n",
    "Atributo 3: 333\n",
    "Autenticação falhou! \n",
    "```\n",
    "\n",
    "```\n",
    "Insira o padrão de íris para autenticação.\n",
    "Atributo 1: 982\n",
    "Atributo 2: 653\n",
    "Atributo 3: 324\n",
    "Autenticação bem-sucedida! \n",
    "Usuário: 2\n",
    "```"
   ]
  },
  {
   "cell_type": "code",
   "execution_count": 3,
   "id": "b90304eb",
   "metadata": {},
   "outputs": [
    {
     "name": "stdout",
     "output_type": "stream",
     "text": [
      "Insira o padrão de íris para autenticação.\n",
      "Autenticação bem-sucedida!\n",
      "Usuário: 4\n"
     ]
    }
   ],
   "source": [
    "# Padrões de íris dos usuários cadastrados\n",
    "iris1_a1, iris1_a2, iris1_a3 = 123, 456, 789\n",
    "iris2_a1, iris2_a2, iris2_a3 = 987, 654, 321\n",
    "iris3_a1, iris3_a2, iris3_a3 = 111, 222, 333\n",
    "iris4_a1, iris4_a2, iris4_a3 = 444, 555, 666\n",
    "\n",
    "# Solicita  a inserção uma nova leitura de íris\n",
    "print(\"Insira o padrão de íris para autenticação.\")\n",
    "new_a1 = int(input(\"Atributo 1: \"))\n",
    "new_a2 = int(input(\"Atributo 2: \"))\n",
    "new_a3 = int(input(\"Atributo 3: \"))\n",
    "\n",
    "# Define a margem de erro permitida, no caso cinco\n",
    "margem_erro = 5\n",
    "\n",
    "# Verifica se a nova leitura está dentro da margem de erro permitida\n",
    "autenticaçao = False\n",
    "if (abs(new_a1 - iris1_a1) <= margem_erro and\n",
    "    abs(new_a2 - iris1_a2) <= margem_erro and\n",
    "    abs(new_a3 - iris1_a3) <= margem_erro):\n",
    "    print(\"Autenticação bem-sucedida!\")\n",
    "    print(\"Usuário: 1\")\n",
    "    autenticaçao = True\n",
    "\n",
    "elif (abs(new_a1 - iris2_a1) <= margem_erro and\n",
    "    abs(new_a2 - iris2_a2) <= margem_erro and\n",
    "    abs(new_a3 - iris2_a3) <= margem_erro):\n",
    "    print(\"Autenticação bem-sucedida!\")\n",
    "    print(\"Usuário: 2\")\n",
    "    autenticaçao = True\n",
    "\n",
    "elif (abs(new_a1 - iris3_a1) <= margem_erro and\n",
    "    abs(new_a2 - iris3_a2) <= margem_erro and\n",
    "    abs(new_a3 - iris3_a3) <= margem_erro):\n",
    "    print(\"Autenticação bem-sucedida!\")\n",
    "    print(\"Usuário: 3\")\n",
    "    autenticaçao = True\n",
    "\n",
    "elif (abs(new_a1 - iris4_a1) <= margem_erro and\n",
    "    abs(new_a2 - iris4_a2) <= margem_erro and\n",
    "    abs(new_a3 - iris4_a3) <= margem_erro):\n",
    "    print(\"Autenticação bem-sucedida!\")\n",
    "    print(\"Usuário: 4\")\n",
    "    autenticaçao = True\n",
    "\n",
    "else:\n",
    "    print(\"Autenticação falhou!\")\n"
   ]
  }
 ],
 "metadata": {
  "kernelspec": {
   "display_name": "Python 3 (ipykernel)",
   "language": "python",
   "name": "python3"
  },
  "language_info": {
   "codemirror_mode": {
    "name": "ipython",
    "version": 3
   },
   "file_extension": ".py",
   "mimetype": "text/x-python",
   "name": "python",
   "nbconvert_exporter": "python",
   "pygments_lexer": "ipython3",
   "version": "3.11.7"
  }
 },
 "nbformat": 4,
 "nbformat_minor": 5
}
