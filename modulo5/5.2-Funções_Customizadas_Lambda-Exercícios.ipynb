{
 "cells": [
  {
   "cell_type": "markdown",
   "id": "cbdff5a5",
   "metadata": {},
   "source": [
    "# Módulo 5 - Funções\n",
    "\n",
    "## Aulas 5.2 - Funções Customizadas e 5.4 Funções ```lambda```"
   ]
  },
  {
   "cell_type": "markdown",
   "id": "28a3fee2",
   "metadata": {},
   "source": [
    "### Q1.\n",
    "\n",
    "- Sabendo que o código a seguir calcula o fatorial de n, escreva uma função chamada ```fatorial()``` que recebe um inteiro ```n``` como parâmetro e retorna o resultado do fatorial de ```n```. \n",
    "- No programa principal, peça ao usuário o valor de ```n```, chame a sua função e imprima o retorno.\n",
    "\n",
    "```python\n",
    "fat = 1\n",
    "for i in range(1, n+1):\n",
    "    fat *= i \n",
    "```"
   ]
  },
  {
   "cell_type": "code",
   "execution_count": 34,
   "id": "d126b3a5",
   "metadata": {},
   "outputs": [],
   "source": [
    "## Crie aqui a função fatorial()\n",
    "## lembre-se de executar a célula para que \n",
    "## a função passe a existir e possa ser chamada\n",
    "def fatorial(valor):\n",
    "    #function body\n",
    "    fat = 1\n",
    "    for i in range(1,valor+1):\n",
    "        fat *= i\n",
    "    return fat"
   ]
  },
  {
   "cell_type": "code",
   "execution_count": 33,
   "id": "6e4fe64e",
   "metadata": {},
   "outputs": [
    {
     "name": "stdout",
     "output_type": "stream",
     "text": [
      "O fatorial de 5 é 120!\n"
     ]
    }
   ],
   "source": [
    "## Escreva aqui o programa principal e execute a célula\n",
    " \n",
    "\n",
    "\n",
    "n = int(input(\"Digite n para o cálculo do fatorial: \"))\n",
    "fatorial_n = fatorial(n)\n",
    "print(f\"O fatorial de {n} é {fatorial_n}!\")\n"
   ]
  },
  {
   "cell_type": "markdown",
   "id": "c0a1f599",
   "metadata": {},
   "source": [
    "### Q2.\n",
    "\n",
    "- Escreva uma função em Python chamada ```soma_quadrados``` que recebe dois números como parâmetros e retorna a soma dos seus quadrados. \n",
    "- No programa principal solicite ao usuário que insira dois números e utilize a função para exibir a soma dos quadrados."
   ]
  },
  {
   "cell_type": "code",
   "execution_count": 39,
   "id": "6dbddaad",
   "metadata": {},
   "outputs": [],
   "source": [
    "## Crie aqui a função soma_quadrados()\n",
    "def soma_quadrados(n1,n2):\n",
    "    Hipotenusa_sqare = n1**2 + n2**2\n",
    "    return Hipotenusa_sqare"
   ]
  },
  {
   "cell_type": "code",
   "execution_count": 38,
   "id": "9175a7da",
   "metadata": {},
   "outputs": [
    {
     "name": "stdout",
     "output_type": "stream",
     "text": [
      "5\n"
     ]
    }
   ],
   "source": [
    "## Escreva aqui o programa principal e execute a célula\n",
    "n1 = int(input(\"Digite n1: \"))\n",
    "n2 = int(input(\"Digite n2: \"))\n",
    "soma_quadrado = soma_quadrados(n1,n2)\n",
    "print(soma_quadrado)"
   ]
  },
  {
   "cell_type": "markdown",
   "id": "6ba34ce0",
   "metadata": {},
   "source": [
    "### Q3.\n",
    "\n",
    "- Crie uma função em Python chamada ```soma_digitos``` que recebe um número inteiro como parâmetro e retorna a soma dos seus dígitos. Por exemplo, para o número 123, a função deve retornar 6, $(1 + 2 + 3)$.\n",
    "    - O desafio aqui é separar os dígitos de um número inteiro usando operações aritméticas <br> <br>\n",
    "\n",
    "- No programa principal solicite ao usuário que insira um número e utilize a função ```soma_digitos``` para calcular e exibir a soma dos seus dígitos."
   ]
  },
  {
   "cell_type": "code",
   "execution_count": 40,
   "id": "34838ebf",
   "metadata": {},
   "outputs": [],
   "source": [
    "## Crie aqui a função soma_digitos()\n",
    "def soma_digitos(numero):\n",
    "    # Converte o número para string para iterar sobre cada dígito\n",
    "    numero_str = str(numero)\n",
    "    soma = 0\n",
    "    # Itera sobre cada caractere na string\n",
    "    for digito in numero_str:\n",
    "        # Converte o caractere de volta para inteiro e adiciona à soma\n",
    "        soma += int(digito)\n",
    "    return soma"
   ]
  },
  {
   "cell_type": "code",
   "execution_count": 42,
   "id": "27c35b21",
   "metadata": {},
   "outputs": [
    {
     "name": "stdout",
     "output_type": "stream",
     "text": [
      "A soma dos dígitos de 1248 é 15.\n"
     ]
    }
   ],
   "source": [
    "## Escreva aqui o programa principal e execute a célula\n",
    "\n",
    "\n",
    "# Programa principal\n",
    "try:\n",
    "    # Solicita ao usuário que insira um número\n",
    "    numero = int(input(\"Digite um número inteiro para calcular a soma dos seus dígitos: \"))\n",
    "    \n",
    "    # Chama a função soma_digitos para calcular a soma dos dígitos do número fornecido\n",
    "    resultado = soma_digitos(numero)\n",
    "    \n",
    "    # Exibe o resultado para o usuário\n",
    "    print(f\"A soma dos dígitos de {numero} é {resultado}.\")\n",
    "    \n",
    "except ValueError:\n",
    "    print(\"Erro: Você deve digitar um número inteiro válido.\")\n"
   ]
  },
  {
   "cell_type": "markdown",
   "id": "c318b159",
   "metadata": {},
   "source": [
    "### Q4.\n",
    "\n",
    "- Crie a função ```inverteValor()``` que recebe um inteiro de qualquer tamanho e retorna esse valor invertido usando apenas operações aritméticas\n",
    "- Crie a função ```verificaInverso()``` que recebe o valor original e o valor invertido e retorna verdadeiro se ambos forem igualmente par ou igualmente ímpar. Retorne falso caso contrário.\n",
    "- No programa principal, peça um valor do usuário e imprima o retorno de ambas as funções.\n"
   ]
  },
  {
   "cell_type": "code",
   "execution_count": 57,
   "id": "e4e47d1d",
   "metadata": {},
   "outputs": [],
   "source": [
    "## Crie aqui as funções inverteValor() e verificaInverso()\n",
    "\n",
    "## Escreva aqui o programa principal e execute a célula\n",
    "def inverteValor(numero):\n",
    "    invertido = 0\n",
    "    negativo = False\n",
    "    \n",
    "    # Verifica se o número é negativo\n",
    "    if numero < 0:\n",
    "        negativo = True\n",
    "        numero = -numero\n",
    "    \n",
    "    # Inverte o número usando operações aritméticas\n",
    "    while numero > 0:\n",
    "        digito = numero % 10\n",
    "        invertido = (invertido * 10) + digito\n",
    "        numero //= 10\n",
    "    \n",
    "    # Se o número original era negativo, inverte também o sinal do número invertido\n",
    "    if negativo:\n",
    "        invertido = -invertido\n",
    "    \n",
    "    return invertido\n",
    "\n",
    "def verificaInverso(original, invertido):\n",
    "    # Função para obter os dígitos de um número como uma lista\n",
    "    def obter_digitos(numero):\n",
    "        return [int(d) for d in str(numero)]\n",
    "    \n",
    "    # Obtém os dígitos do número original e do invertido\n",
    "    original_digits = obter_digitos(original)\n",
    "    invertido_digits = obter_digitos(invertido)\n",
    "    \n",
    "    # Verifica se os dígitos estão invertidos corretamente\n",
    "    return original_digits == invertido_digits[::-1]\n",
    "\n"
   ]
  },
  {
   "cell_type": "code",
   "execution_count": 56,
   "id": "a9514e56",
   "metadata": {},
   "outputs": [
    {
     "name": "stdout",
     "output_type": "stream",
     "text": [
      "Valor invertido: 4321\n",
      "Os dígitos foram invertidos corretamente.\n"
     ]
    }
   ],
   "source": [
    "\n",
    "\n",
    "# Programa principal\n",
    "try:\n",
    "    # Solicita ao usuário que digite um número\n",
    "    numero = int(input(\"Digite um número inteiro para inverter e verificar: \"))\n",
    "    \n",
    "    # Inverte o valor do número\n",
    "    invertido = inverteValor(numero)\n",
    "    \n",
    "    # Verifica se os dígitos foram invertidos corretamente\n",
    "    resultado = verificaInverso(numero, invertido)\n",
    "    \n",
    "    # Exibe o resultado para o usuário\n",
    "    print(f\"Valor invertido: {invertido}\")\n",
    "    if resultado:\n",
    "        print(\"Os dígitos foram invertidos corretamente.\")\n",
    "    else:\n",
    "        print(\"Os dígitos não foram invertidos corretamente.\")\n",
    "    \n",
    "except ValueError:\n",
    "    print(\"Erro: Você deve digitar um número inteiro válido.\")\n"
   ]
  },
  {
   "cell_type": "markdown",
   "id": "329be966",
   "metadata": {},
   "source": [
    "### Q5.\n",
    "\n",
    "Você está desenvolvendo um programa para auxiliar em cálculos de geometria básica. Crie as seguintes funções:\n",
    "- A função ```calcula_perimetro_triangulo()``` que recebe três inteiros correspondentes aos lados de um triângulo e retorna o perímetro do triângulo, ou seja, a soma dos seus lados.\n",
    "- A função ```calcula_perimetro_circulo()``` que recebe um inteiro referente ao raio do círculo e retorna o perímetro do círculo, dado por $2 \\pi r$. Use a constante $\\pi$ da biblioteca ```math```.\n",
    "- A função ```calcula_perimetro_retangulo()``` que possui um parâmetro obrigatório ```lado1``` e um opcional ```lado2```, ambos inteiros. Se o valor opcional não for fornecido, significa que se trata de um quadrado. Sua função deve calcular e retornar o perímetro do retângulo, ou seja, a soma de seus lados. \n",
    "    - Para o quadrado, é dado por $4 \\times lado1$\n",
    "    - Para o retângulo é dado por $2 \\times lado1 + 2 \\times lado2$\n",
    "    \n",
    "- No programa principal apresente um menu com as opções disponíveis do seu sistema e uma quarta opção ```Sair```. Solicite ao usuário a opção desejada, solicite as entradas correspondentes à opção escolhida, invoque a respective função e apresente o seu retorno. Seu programa deve retornar ao menu até que o usuário escolha a opção ```Sair```\n",
    "\n",
    "Exemplo de interação:\n",
    "```\n",
    "1 - Calcular perímetro triângulo\n",
    "2 - Calcular perímetro círculo\n",
    "3 - Calcular perímetro retângulo\n",
    "4 - Sair\n",
    "\n",
    "Opção: 1\n",
    "Digite os três lados do triângulo:\n",
    "3\n",
    "4\n",
    "5\n",
    "O perímetro é: 12\n",
    "\n",
    "1 - Calcular perímetro triângulo\n",
    "2 - Calcular perímetro círculo\n",
    "3 - Calcular perímetro retângulo\n",
    "4 - Sair\n",
    "\n",
    "Opção: 3\n",
    "Informe os dois lados do retângulo. Se for um quadrado, digite 0 para o segundo valor:\n",
    "5\n",
    "0\n",
    "O perímetro é: 20\n",
    "\n",
    "1 - Calcular perímetro triângulo\n",
    "2 - Calcular perímetro círculo\n",
    "3 - Calcular perímetro retângulo\n",
    "4 - Sair\n",
    "\n",
    "Opção: 4\n",
    "```"
   ]
  },
  {
   "cell_type": "code",
   "execution_count": 60,
   "id": "0793d328",
   "metadata": {},
   "outputs": [],
   "source": [
    "## Crie aqui as funções \n",
    "\n",
    "import math #Assim podemos usar o valor de pi = 3,14159265\n",
    "\n",
    "def calcula_perimetro_triangulo(lado1, lado2, lado3):\n",
    "    return lado1 + lado2 + lado3\n",
    "\n",
    "def calcula_perimetro_circulo(raio):\n",
    "    return 2 * math.pi * raio\n",
    "\n",
    "def calcula_perimetro_retangulo(lado1, lado2=0):\n",
    "    if lado2 == 0:\n",
    "        # É um quadrado\n",
    "        return 4 * lado1\n",
    "    else:\n",
    "        # É um retângulo\n",
    "        return 2 * (lado1 + lado2)"
   ]
  },
  {
   "cell_type": "code",
   "execution_count": 59,
   "id": "36269c71",
   "metadata": {},
   "outputs": [
    {
     "name": "stdout",
     "output_type": "stream",
     "text": [
      "1 - Calcular perímetro triângulo\n",
      "2 - Calcular perímetro círculo\n",
      "3 - Calcular perímetro retângulo\n",
      "4 - Sair\n",
      "O perímetro do triângulo é: 6\n",
      "\n",
      "1 - Calcular perímetro triângulo\n",
      "2 - Calcular perímetro círculo\n",
      "3 - Calcular perímetro retângulo\n",
      "4 - Sair\n",
      "O perímetro do círculo é: 25.132741228718345\n",
      "\n",
      "1 - Calcular perímetro triângulo\n",
      "2 - Calcular perímetro círculo\n",
      "3 - Calcular perímetro retângulo\n",
      "4 - Sair\n",
      "O perímetro do triângulo é: 6\n",
      "\n",
      "1 - Calcular perímetro triângulo\n",
      "2 - Calcular perímetro círculo\n",
      "3 - Calcular perímetro retângulo\n",
      "4 - Sair\n",
      "O perímetro do retângulo é: 14\n",
      "\n",
      "1 - Calcular perímetro triângulo\n",
      "2 - Calcular perímetro círculo\n",
      "3 - Calcular perímetro retângulo\n",
      "4 - Sair\n",
      "Opção inválida. Escolha uma opção válida.\n",
      "\n",
      "1 - Calcular perímetro triângulo\n",
      "2 - Calcular perímetro círculo\n",
      "3 - Calcular perímetro retângulo\n",
      "4 - Sair\n",
      "Opção inválida. Escolha uma opção válida.\n",
      "\n",
      "1 - Calcular perímetro triângulo\n",
      "2 - Calcular perímetro círculo\n",
      "3 - Calcular perímetro retângulo\n",
      "4 - Sair\n",
      "Opção inválida. Escolha uma opção válida.\n",
      "\n",
      "1 - Calcular perímetro triângulo\n",
      "2 - Calcular perímetro círculo\n",
      "3 - Calcular perímetro retângulo\n",
      "4 - Sair\n",
      "Encerrando o programa...\n"
     ]
    }
   ],
   "source": [
    "## Escreva aqui o programa principal \n",
    "def menu():\n",
    "    print(\"1 - Calcular perímetro triângulo\")\n",
    "    print(\"2 - Calcular perímetro círculo\")\n",
    "    print(\"3 - Calcular perímetro retângulo\")\n",
    "    print(\"4 - Sair\")\n",
    "\n",
    "def main():\n",
    "    while True:\n",
    "        menu()\n",
    "        opcao = input(\"\\nOpção: \")\n",
    "        \n",
    "        if opcao == '1':\n",
    "            lado1 = int(input(\"Digite o primeiro lado do triângulo: \"))\n",
    "            lado2 = int(input(\"Digite o segundo lado do triângulo: \"))\n",
    "            lado3 = int(input(\"Digite o terceiro lado do triângulo: \"))\n",
    "            perimetro = calcula_perimetro_triangulo(lado1, lado2, lado3)\n",
    "            print(f\"O perímetro do triângulo é: {perimetro}\\n\")\n",
    "        \n",
    "        elif opcao == '2':\n",
    "            raio = int(input(\"Digite o raio do círculo: \"))\n",
    "            perimetro = calcula_perimetro_circulo(raio)\n",
    "            print(f\"O perímetro do círculo é: {perimetro}\\n\")\n",
    "        \n",
    "        elif opcao == '3':\n",
    "            lado1 = int(input(\"Digite um lado do retângulo: \"))\n",
    "            lado2 = int(input(\"Digite o outro lado do retângulo (0 se for um quadrado): \"))\n",
    "            perimetro = calcula_perimetro_retangulo(lado1, lado2)\n",
    "            print(f\"O perímetro do retângulo é: {perimetro}\\n\")\n",
    "        \n",
    "        elif opcao == '4':\n",
    "            print(\"Encerrando o programa...\")\n",
    "            break\n",
    "        \n",
    "        else:\n",
    "            print(\"Opção inválida. Escolha uma opção válida.\\n\")\n",
    "\n",
    "if __name__ == \"__main__\":\n",
    "    main()\n"
   ]
  },
  {
   "cell_type": "markdown",
   "id": "3016bcc7",
   "metadata": {},
   "source": [
    "## Funções ```lambda```"
   ]
  },
  {
   "cell_type": "markdown",
   "id": "f9cdb8dd",
   "metadata": {},
   "source": [
    "### Q6.\n",
    "\n",
    "Crie uma função lambda para verificar se um número é par ou ímpar. Em seguida, solicite ao usuário um número indefinidos de valores (até que o usuário digite 0). Para cada valor de entrada, informe se é par ou ímpar.\n",
    "\n",
    "Exemplo de interação:\n",
    "```\n",
    "Digite os valores que deseja verificar a paridade (digite 0 para finalizar a entrada de dados):\n",
    "3\n",
    "ímpar\n",
    "8\n",
    "par\n",
    "12\n",
    "par\n",
    "5\n",
    "ímpar\n",
    "7ímpar\n",
    "```"
   ]
  },
  {
   "cell_type": "code",
   "execution_count": 4,
   "id": "e3c31a78",
   "metadata": {},
   "outputs": [
    {
     "name": "stdout",
     "output_type": "stream",
     "text": [
      "ímpar\n",
      "par\n",
      "ímpar\n"
     ]
    }
   ],
   "source": [
    "verifica_paridade = lambda x: \"par\" if x % 2 == 0 else \"ímpar\"\n",
    "\n",
    "\n",
    "def main():\n",
    "    while True:\n",
    "        numero = (input(\"Digite um número (digite s para sair): \"))\n",
    "        numero_str = numero\n",
    "        if  numero_str == \"s\":\n",
    "            break\n",
    "        numero = int(numero)\n",
    "        resultado = verifica_paridade(numero)\n",
    "        print(resultado)\n",
    "\n",
    "if __name__ == \"__main__\":\n",
    "    main()\n"
   ]
  },
  {
   "cell_type": "markdown",
   "id": "5a87474d",
   "metadata": {},
   "source": [
    "### Q7.\n",
    "\n",
    "Escreva um programa que pergunte ao usuário qual operação ele deseja: maior ou menor.\n",
    "Em seguida leia uma quantidade indefinida de valores do usuário, até que o usuário digite o valor zero.\n",
    "Apresente ao final o maior ou menor dos valores digitados de acordo com a escolha do usuário.\n",
    "\n",
    "**Sua solução deve incluir pelo menos uma função ```lambda```** \n",
    "\n",
    "Exemplo de interação:\n",
    "```\n",
    "Opções: (1) maior ou (2) menor?\n",
    "Opção: 1\n",
    "\n",
    "Digite os valores de entrada. Digite 0 para finalizar a entrada de valores.\n",
    "4\n",
    "12\n",
    "15\n",
    "1\n",
    "0\n",
    "\n",
    "O maior valor é: 15\n",
    "```"
   ]
  },
  {
   "cell_type": "code",
   "execution_count": 5,
   "id": "ee3f68ca",
   "metadata": {},
   "outputs": [
    {
     "name": "stdout",
     "output_type": "stream",
     "text": [
      "Opções: (1) maior ou (2) menor?\n",
      "O maior valor é: 3.0\n"
     ]
    }
   ],
   "source": [
    "## Escreva aqui o programa principal \n",
    "# Função lambda para determinar maior ou menor valor\n",
    "choose_func = lambda option: max if option == 1 else min\n",
    "\n",
    "# Função principal\n",
    "def main():\n",
    "    # Pergunta ao usuário qual operação deseja: maior (1) ou menor (2)\n",
    "    print(\"Opções: (1) maior ou (2) menor?\")\n",
    "    option = int(input(\"Opção: \"))\n",
    "    \n",
    "    # Validando a opção do usuário\n",
    "    if option not in [1, 2]:\n",
    "        print(\"Opção inválida. Programa encerrado.\")\n",
    "        return\n",
    "    \n",
    "    func = choose_func(option)\n",
    "    \n",
    "    # Inicializando uma lista para armazenar os valores\n",
    "    values = []\n",
    "    \n",
    "    # Loop para receber os valores do usuário\n",
    "    while True:\n",
    "        value = float(input(\"Digite um valor (0 para finalizar): \"))\n",
    "        \n",
    "        if value == 0:\n",
    "            break\n",
    "        \n",
    "        values.append(value)\n",
    "    \n",
    "    # Verificando se a lista de valores não está vazia\n",
    "    if len(values) > 0:\n",
    "        # Calculando o maior ou menor valor usando a função escolhida\n",
    "        result = func(values)\n",
    "        print(f\"O {'maior' if func == max else 'menor'} valor é: {result}\")\n",
    "    else:\n",
    "        print(\"Nenhum valor foi digitado.\")\n",
    "\n",
    "if __name__ == \"__main__\":\n",
    "    main()\n"
   ]
  }
 ],
 "metadata": {
  "kernelspec": {
   "display_name": "Python 3 (ipykernel)",
   "language": "python",
   "name": "python3"
  },
  "language_info": {
   "codemirror_mode": {
    "name": "ipython",
    "version": 3
   },
   "file_extension": ".py",
   "mimetype": "text/x-python",
   "name": "python",
   "nbconvert_exporter": "python",
   "pygments_lexer": "ipython3",
   "version": "3.9.6"
  }
 },
 "nbformat": 4,
 "nbformat_minor": 5
}
